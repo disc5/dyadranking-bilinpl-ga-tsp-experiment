{
 "cells": [
  {
   "cell_type": "markdown",
   "metadata": {},
   "source": [
    "# Application of the dyad ranking model BilinPL on the GA-TSP dataset"
   ]
  },
  {
   "cell_type": "markdown",
   "metadata": {},
   "source": [
    "## Preliminaries: Download GA-TSP dataset"
   ]
  },
  {
   "cell_type": "code",
   "execution_count": 1,
   "metadata": {},
   "outputs": [
    {
     "name": "stdout",
     "output_type": "stream",
     "text": [
      "Cloning into 'ga-tsp-dataset'...\n",
      "remote: Enumerating objects: 276, done.\u001b[K\n",
      "remote: Counting objects: 100% (276/276), done.\u001b[K\n",
      "remote: Compressing objects: 100% (271/271), done.\u001b[K\n",
      "remote: Total 276 (delta 5), reused 269 (delta 3), pack-reused 0\u001b[K\n",
      "Receiving objects: 100% (276/276), 360.98 KiB | 250.00 KiB/s, done.\n",
      "Resolving deltas: 100% (5/5), done.\n"
     ]
    }
   ],
   "source": [
    "!git clone https://github.com/disc5/ga-tsp-dataset.git"
   ]
  },
  {
   "cell_type": "markdown",
   "metadata": {},
   "source": [
    "## 1 Load GA-TSP Data"
   ]
  },
  {
   "cell_type": "code",
   "execution_count": 2,
   "metadata": {},
   "outputs": [],
   "source": [
    "import pandas as pd\n",
    "import numpy as np\n",
    "from dyadranking import utils"
   ]
  },
  {
   "cell_type": "code",
   "execution_count": 3,
   "metadata": {},
   "outputs": [],
   "source": [
    "df_instances = pd.read_csv('ga-tsp-dataset/data_meta/instances.csv', sep=',')\n",
    "df_algorithms = pd.read_csv('ga-tsp-dataset/data_meta/algorithms.csv', sep=',')\n",
    "df_rankings = pd.read_csv('ga-tsp-dataset/data_meta/rankings.csv', sep=',')\n"
   ]
  },
  {
   "cell_type": "code",
   "execution_count": 4,
   "metadata": {},
   "outputs": [],
   "source": [
    "inst_ndarr = df_instances.values\n",
    "label_feat_ndarr = df_algorithms.values\n",
    "rankings_ndarr = df_rankings.values"
   ]
  },
  {
   "cell_type": "markdown",
   "metadata": {},
   "source": [
    "## 2 Split data along the instances (i.e. label ranking alike schema): 90% training, 10 % test"
   ]
  },
  {
   "cell_type": "code",
   "execution_count": 5,
   "metadata": {},
   "outputs": [],
   "source": [
    "num_inst = inst_ndarr.shape[0]"
   ]
  },
  {
   "cell_type": "code",
   "execution_count": 6,
   "metadata": {},
   "outputs": [],
   "source": [
    "np.random.seed(42)\n",
    "rp = np.random.permutation(range(num_inst))"
   ]
  },
  {
   "cell_type": "code",
   "execution_count": 7,
   "metadata": {},
   "outputs": [],
   "source": [
    "num_tr_inst = np.floor(num_inst/100*90).astype(int)"
   ]
  },
  {
   "cell_type": "code",
   "execution_count": 8,
   "metadata": {},
   "outputs": [
    {
     "name": "stdout",
     "output_type": "stream",
     "text": [
      "Number of tr instances: 221, te instances: 25, total: 246\n"
     ]
    }
   ],
   "source": [
    "print(\"Number of tr instances: {}, te instances: {}, total: {}\".format(num_tr_inst, num_inst-num_tr_inst, num_inst))"
   ]
  },
  {
   "cell_type": "code",
   "execution_count": 9,
   "metadata": {},
   "outputs": [],
   "source": [
    "tr_indices = rp[0:num_tr_inst]\n",
    "te_indices = rp[num_tr_inst:]"
   ]
  },
  {
   "cell_type": "code",
   "execution_count": 10,
   "metadata": {},
   "outputs": [],
   "source": [
    "tr_inst = inst_ndarr[tr_indices,:]\n",
    "tr_rankings = rankings_ndarr[tr_indices,:]"
   ]
  },
  {
   "cell_type": "code",
   "execution_count": 11,
   "metadata": {},
   "outputs": [],
   "source": [
    "te_inst = inst_ndarr[te_indices,:]\n",
    "te_rankings = rankings_ndarr[te_indices,:]"
   ]
  },
  {
   "cell_type": "markdown",
   "metadata": {},
   "source": [
    "## 3 Preprocess data"
   ]
  },
  {
   "cell_type": "markdown",
   "metadata": {},
   "source": [
    "Standardize the data, i.e. transform it using the following formula\n",
    "$$\n",
    "    z_i = \\frac{x_i - \\bar{x}}{\\sigma} \\enspace.\n",
    "$$"
   ]
  },
  {
   "cell_type": "code",
   "execution_count": 12,
   "metadata": {},
   "outputs": [],
   "source": [
    "tr_means = np.mean(tr_inst, 0)"
   ]
  },
  {
   "cell_type": "code",
   "execution_count": 13,
   "metadata": {},
   "outputs": [],
   "source": [
    "tr_stds = np.std(tr_inst,0)"
   ]
  },
  {
   "cell_type": "code",
   "execution_count": 14,
   "metadata": {},
   "outputs": [],
   "source": [
    "tr_inst_z = (tr_inst - tr_means) / tr_stds"
   ]
  },
  {
   "cell_type": "markdown",
   "metadata": {},
   "source": [
    "Standardize label features"
   ]
  },
  {
   "cell_type": "code",
   "execution_count": 15,
   "metadata": {},
   "outputs": [],
   "source": [
    "label_means = np.mean(label_feat_ndarr[:,0:2],0)"
   ]
  },
  {
   "cell_type": "code",
   "execution_count": 16,
   "metadata": {},
   "outputs": [],
   "source": [
    "label_stds = np.std(label_feat_ndarr[:,0:2],0)"
   ]
  },
  {
   "cell_type": "code",
   "execution_count": 17,
   "metadata": {},
   "outputs": [],
   "source": [
    "label_feat_z = (label_feat_ndarr[:,0:2] - label_means) / label_stds\n",
    "label_feat_z = np.append(label_feat_z, label_feat_ndarr[:,2:], axis = 1)"
   ]
  },
  {
   "cell_type": "markdown",
   "metadata": {},
   "source": [
    "Data preparation for BilinPL model"
   ]
  },
  {
   "cell_type": "code",
   "execution_count": 18,
   "metadata": {},
   "outputs": [],
   "source": [
    "N = tr_inst.shape[0]\n",
    "M = tr_rankings.shape[1]"
   ]
  },
  {
   "cell_type": "code",
   "execution_count": 19,
   "metadata": {},
   "outputs": [],
   "source": [
    "tr_inst_bilinpl = np.append(tr_inst_z, np.ones((N,1)), axis = 1)"
   ]
  },
  {
   "cell_type": "code",
   "execution_count": 20,
   "metadata": {},
   "outputs": [],
   "source": [
    "tr_jf_unordered_tensor = utils.get_kronecker_feature_map_tensor(tr_inst_bilinpl, label_feat_z)"
   ]
  },
  {
   "cell_type": "code",
   "execution_count": 21,
   "metadata": {},
   "outputs": [
    {
     "data": {
      "text/plain": [
       "(221, 72, 25)"
      ]
     },
     "execution_count": 21,
     "metadata": {},
     "output_type": "execute_result"
    }
   ],
   "source": [
    "tr_jf_unordered_tensor.shape"
   ]
  },
  {
   "cell_type": "code",
   "execution_count": 22,
   "metadata": {},
   "outputs": [],
   "source": [
    "tr_orderings = utils.convert_rankingmat_to_orderingmat(tr_rankings)\n",
    "tr_orderings = tr_orderings - 1"
   ]
  },
  {
   "cell_type": "code",
   "execution_count": 23,
   "metadata": {},
   "outputs": [],
   "source": [
    "tr_jf_ordered_tensor = np.zeros(tr_jf_unordered_tensor.shape, dtype = tr_jf_unordered_tensor.dtype)"
   ]
  },
  {
   "cell_type": "code",
   "execution_count": 24,
   "metadata": {},
   "outputs": [],
   "source": [
    "for i in range(tr_rankings.shape[0]):\n",
    "    tr_jf_ordered_tensor[i,:] = tr_jf_unordered_tensor[i,tr_orderings[i],:]"
   ]
  },
  {
   "cell_type": "markdown",
   "metadata": {},
   "source": [
    "## 4 Train model"
   ]
  },
  {
   "cell_type": "code",
   "execution_count": 25,
   "metadata": {},
   "outputs": [],
   "source": [
    "from dyadranking.models import jfpl"
   ]
  },
  {
   "cell_type": "code",
   "execution_count": 26,
   "metadata": {},
   "outputs": [],
   "source": [
    "model = jfpl.JointFeaturePLModel()"
   ]
  },
  {
   "cell_type": "code",
   "execution_count": 27,
   "metadata": {},
   "outputs": [],
   "source": [
    "model.train(tr_jf_ordered_tensor)"
   ]
  },
  {
   "cell_type": "code",
   "execution_count": 28,
   "metadata": {},
   "outputs": [
    {
     "name": "stdout",
     "output_type": "stream",
     "text": [
      "JointFeaturePLModel with parameters: [  0.41951989   5.11314112  -1.00542703   5.6986259   -4.69591214\n",
      "   1.24328633   3.99284829  -4.25946087   3.83850267   0.42122587\n",
      "  -3.26779588  -5.80884928   4.46730851 -12.236432     7.76618312\n",
      "   1.8464012   -1.71123935   2.34662265   2.57509315  -4.92604211\n",
      "   0.48110146   1.33532984   2.16666454   1.27295127  -3.44336674]\n"
     ]
    }
   ],
   "source": [
    "print(model)"
   ]
  },
  {
   "cell_type": "markdown",
   "metadata": {},
   "source": [
    "## 5 Evaluate Model"
   ]
  },
  {
   "cell_type": "code",
   "execution_count": 29,
   "metadata": {},
   "outputs": [],
   "source": [
    "te_inst_z = (te_inst - tr_means) / tr_stds\n",
    "N_test = te_inst_z.shape[0]"
   ]
  },
  {
   "cell_type": "code",
   "execution_count": 30,
   "metadata": {},
   "outputs": [],
   "source": [
    "te_inst_z_bilinpl = np.append(te_inst_z, np.ones((N_test,1)), axis = 1)"
   ]
  },
  {
   "cell_type": "code",
   "execution_count": 31,
   "metadata": {},
   "outputs": [],
   "source": [
    "te_jf_unordered_tensor = utils.get_kronecker_feature_map_tensor(te_inst_z_bilinpl, label_feat_z)"
   ]
  },
  {
   "cell_type": "code",
   "execution_count": 32,
   "metadata": {},
   "outputs": [],
   "source": [
    "pred_orderings = np.zeros(te_jf_unordered_tensor.shape[0:2], dtype=int)"
   ]
  },
  {
   "cell_type": "code",
   "execution_count": 33,
   "metadata": {},
   "outputs": [],
   "source": [
    "for i in range(N_test):\n",
    "    pred_orderings[i] = model.predict(te_jf_unordered_tensor[i]) + 1"
   ]
  },
  {
   "cell_type": "code",
   "execution_count": 34,
   "metadata": {},
   "outputs": [],
   "source": [
    "pred_rankings = utils.convert_orderingmat_to_rankingmat(pred_orderings)"
   ]
  },
  {
   "cell_type": "code",
   "execution_count": 35,
   "metadata": {},
   "outputs": [
    {
     "data": {
      "text/plain": [
       "(0.7950860719874805,\n",
       " array([0.60954617, 0.8458529 , 0.83098592, 0.86071987, 0.72456964,\n",
       "        0.64632238, 0.83020344, 0.87010955, 0.66979656, 0.9029734 ,\n",
       "        0.76995305, 0.86384977, 0.65258216, 0.88654147, 0.86071987,\n",
       "        0.86463224, 0.53442879, 0.78482003, 0.76134585, 0.87167449,\n",
       "        0.80985915, 0.89045383, 0.76682316, 0.89671362, 0.87167449]))"
      ]
     },
     "execution_count": 35,
     "metadata": {},
     "output_type": "execute_result"
    }
   ],
   "source": [
    "utils.kendallstau_on_rankingmat(te_rankings, pred_rankings)"
   ]
  },
  {
   "cell_type": "code",
   "execution_count": null,
   "metadata": {},
   "outputs": [],
   "source": []
  }
 ],
 "metadata": {
  "kernelspec": {
   "display_name": "Python 3",
   "language": "python",
   "name": "python3"
  },
  "language_info": {
   "codemirror_mode": {
    "name": "ipython",
    "version": 3
   },
   "file_extension": ".py",
   "mimetype": "text/x-python",
   "name": "python",
   "nbconvert_exporter": "python",
   "pygments_lexer": "ipython3",
   "version": "3.6.4"
  }
 },
 "nbformat": 4,
 "nbformat_minor": 2
}
